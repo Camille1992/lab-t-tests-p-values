{
 "cells": [
  {
   "cell_type": "markdown",
   "id": "e2f58392",
   "metadata": {},
   "source": [
    "**Instructions**\n",
    "\n",
    "We will have another simple example on two sample t test (pooled- when the variances are equal). \\\n",
    "But this time this is a one sided t-test.\\\n",
    "In a packing plant, a machine packs cartons with jars. \\\n",
    "It is supposed that a new machine will pack faster on the average than the machine currently used. \\\n",
    "To test that hypothesis, the times it takes each machine to pack ten cartons are recorded. \\\n",
    "The results, in seconds, are shown in the tables in the file files_for_lab/machine.txt. \\\n",
    "Assume that there is sufficient evidence to conduct the t test, does the data provide sufficient evidence to show if one machine is better than the other"
   ]
  },
  {
   "cell_type": "markdown",
   "id": "828f74cf",
   "metadata": {},
   "source": [
    "**Hypothesis**\n",
    "\n",
    "m0 = average speed of current machine\\\n",
    "m1 = average speed of new machine\\\n",
    "Null hypothesis: **m1 = m0**\\\n",
    "Alternative hypothesis: **m1 > m0** \\\n",
    "We choose a significance level of **alpha = 0.05**\\\n",
    "This is a **right-tailed test**."
   ]
  },
  {
   "cell_type": "code",
   "execution_count": 53,
   "id": "730c9269",
   "metadata": {},
   "outputs": [
    {
     "data": {
      "text/html": [
       "<div>\n",
       "<style scoped>\n",
       "    .dataframe tbody tr th:only-of-type {\n",
       "        vertical-align: middle;\n",
       "    }\n",
       "\n",
       "    .dataframe tbody tr th {\n",
       "        vertical-align: top;\n",
       "    }\n",
       "\n",
       "    .dataframe thead th {\n",
       "        text-align: right;\n",
       "    }\n",
       "</style>\n",
       "<table border=\"1\" class=\"dataframe\">\n",
       "  <thead>\n",
       "    <tr style=\"text-align: right;\">\n",
       "      <th></th>\n",
       "      <th>New machine</th>\n",
       "      <th>Old machine</th>\n",
       "    </tr>\n",
       "  </thead>\n",
       "  <tbody>\n",
       "    <tr>\n",
       "      <th>0</th>\n",
       "      <td>42.1</td>\n",
       "      <td>42.7</td>\n",
       "    </tr>\n",
       "    <tr>\n",
       "      <th>1</th>\n",
       "      <td>41.0</td>\n",
       "      <td>43.6</td>\n",
       "    </tr>\n",
       "    <tr>\n",
       "      <th>2</th>\n",
       "      <td>41.3</td>\n",
       "      <td>43.8</td>\n",
       "    </tr>\n",
       "    <tr>\n",
       "      <th>3</th>\n",
       "      <td>41.8</td>\n",
       "      <td>43.3</td>\n",
       "    </tr>\n",
       "    <tr>\n",
       "      <th>4</th>\n",
       "      <td>42.4</td>\n",
       "      <td>42.5</td>\n",
       "    </tr>\n",
       "    <tr>\n",
       "      <th>5</th>\n",
       "      <td>42.8</td>\n",
       "      <td>43.5</td>\n",
       "    </tr>\n",
       "    <tr>\n",
       "      <th>6</th>\n",
       "      <td>43.2</td>\n",
       "      <td>43.1</td>\n",
       "    </tr>\n",
       "    <tr>\n",
       "      <th>7</th>\n",
       "      <td>42.3</td>\n",
       "      <td>41.7</td>\n",
       "    </tr>\n",
       "    <tr>\n",
       "      <th>8</th>\n",
       "      <td>41.8</td>\n",
       "      <td>44.0</td>\n",
       "    </tr>\n",
       "    <tr>\n",
       "      <th>9</th>\n",
       "      <td>42.7</td>\n",
       "      <td>44.1</td>\n",
       "    </tr>\n",
       "  </tbody>\n",
       "</table>\n",
       "</div>"
      ],
      "text/plain": [
       "   New machine      Old machine\n",
       "0         42.1             42.7\n",
       "1         41.0             43.6\n",
       "2         41.3             43.8\n",
       "3         41.8             43.3\n",
       "4         42.4             42.5\n",
       "5         42.8             43.5\n",
       "6         43.2             43.1\n",
       "7         42.3             41.7\n",
       "8         41.8             44.0\n",
       "9         42.7             44.1"
      ]
     },
     "execution_count": 53,
     "metadata": {},
     "output_type": "execute_result"
    }
   ],
   "source": [
    "import pandas as pd\n",
    "import math\n",
    "df = pd.read_csv(\"machine2.txt\", sep = \"\\t\")\n",
    "df"
   ]
  },
  {
   "cell_type": "code",
   "execution_count": 54,
   "id": "127fff06",
   "metadata": {},
   "outputs": [
    {
     "data": {
      "text/plain": [
       "Index(['New machine', '    Old machine'], dtype='object')"
      ]
     },
     "execution_count": 54,
     "metadata": {},
     "output_type": "execute_result"
    }
   ],
   "source": [
    "df.columns"
   ]
  },
  {
   "cell_type": "code",
   "execution_count": 55,
   "id": "0470b8a8",
   "metadata": {},
   "outputs": [
    {
     "data": {
      "text/plain": [
       "Index(['New machine', 'Old machine'], dtype='object')"
      ]
     },
     "execution_count": 55,
     "metadata": {},
     "output_type": "execute_result"
    }
   ],
   "source": [
    "df.rename(columns = {'    Old machine':'Old machine'}, inplace = True)\n",
    "df.columns"
   ]
  },
  {
   "cell_type": "code",
   "execution_count": 56,
   "id": "21355b60",
   "metadata": {},
   "outputs": [
    {
     "data": {
      "text/plain": [
       "42.14"
      ]
     },
     "execution_count": 56,
     "metadata": {},
     "output_type": "execute_result"
    }
   ],
   "source": [
    "df['New machine'].mean()"
   ]
  },
  {
   "cell_type": "code",
   "execution_count": 58,
   "id": "44477c8f",
   "metadata": {},
   "outputs": [
    {
     "data": {
      "text/plain": [
       "(42.14, 43.23, 0.68, 0.75)"
      ]
     },
     "execution_count": 58,
     "metadata": {},
     "output_type": "execute_result"
    }
   ],
   "source": [
    "m0 = df['New machine'].mean()\n",
    "m1 = round(df['Old machine'].mean(),2)\n",
    "n1 = 10\n",
    "n2 = 10\n",
    "degree = n1+n2 - 2\n",
    "std1 = round(df['New machine'].std(),2)\n",
    "std2 = round(df['Old machine'].std(),2)\n",
    "m0, m1, std1, std2"
   ]
  },
  {
   "cell_type": "markdown",
   "id": "404e75c5",
   "metadata": {},
   "source": [
    "###### Calculating the T test"
   ]
  },
  {
   "cell_type": "code",
   "execution_count": 66,
   "id": "9cd9c6ca",
   "metadata": {},
   "outputs": [
    {
     "name": "stdout",
     "output_type": "stream",
     "text": [
      "T statistic is  0.7159\n",
      "The critical value is  1.7341\n",
      "P value is:  0.24\n"
     ]
    }
   ],
   "source": [
    "from scipy.stats import t\n",
    "print('T statistic is ', round(math.sqrt(((n1 - 1)*std1**2 + (n2 - 1)*std2**2)/(n1 + n2 - 2)), 4))\n",
    "print('The critical value is ', round(t.ppf(q=1-.05,df=degree), 4))\n",
    "print(\"P value is: \", round((1- t.cdf(statistic,n1+n2-2)), 2))"
   ]
  },
  {
   "attachments": {},
   "cell_type": "markdown",
   "id": "3a48edf0",
   "metadata": {},
   "source": [
    "###### Conclusion\n",
    "\n",
    "T statistic < critical value. \\\n",
    "The test statistic falls in the region between the critical region, **we accept the Null Hypothesis with a confidence level of 95%**. \\\n",
    "Also, the p value is more than 0.05."
   ]
  },
  {
   "cell_type": "code",
   "execution_count": null,
   "id": "62fa06f1",
   "metadata": {},
   "outputs": [],
   "source": []
  }
 ],
 "metadata": {
  "kernelspec": {
   "display_name": "Python 3 (ipykernel)",
   "language": "python",
   "name": "python3"
  },
  "language_info": {
   "codemirror_mode": {
    "name": "ipython",
    "version": 3
   },
   "file_extension": ".py",
   "mimetype": "text/x-python",
   "name": "python",
   "nbconvert_exporter": "python",
   "pygments_lexer": "ipython3",
   "version": "3.9.7"
  }
 },
 "nbformat": 4,
 "nbformat_minor": 5
}
